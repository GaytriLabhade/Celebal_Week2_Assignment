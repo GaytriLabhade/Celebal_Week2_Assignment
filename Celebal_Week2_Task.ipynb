{
  "nbformat": 4,
  "nbformat_minor": 0,
  "metadata": {
    "colab": {
      "name": "Celebal_Week2_Task.ipynb",
      "provenance": [],
      "collapsed_sections": [],
      "toc_visible": true
    },
    "kernelspec": {
      "name": "python3",
      "display_name": "Python 3"
    },
    "language_info": {
      "name": "python"
    }
  },
  "cells": [
    {
      "cell_type": "markdown",
      "source": [
        "Mathematical Operators in Python"
      ],
      "metadata": {
        "id": "YW_cIDkJ1eiR"
      }
    },
    {
      "cell_type": "code",
      "execution_count": 25,
      "metadata": {
        "colab": {
          "base_uri": "https://localhost:8080/"
        },
        "id": "ILQLjaojz8Ks",
        "outputId": "f5096055-58c5-4fad-a684-ec9f82232d54"
      },
      "outputs": [
        {
          "output_type": "stream",
          "name": "stdout",
          "text": [
            "a + b = 9\n",
            "a - b = 3\n",
            "a * b = 18\n",
            "a / b = 2.0\n",
            "a // b = 2\n",
            "a ** b = 216\n"
          ]
        }
      ],
      "source": [
        "a = 6\n",
        "b = 3\n",
        "\n",
        "print(\"a + b =\", a + b) #Addition\n",
        "print(\"a - b =\", a - b) #Substraction\n",
        "print(\"a * b =\", a * b) #Multiplication\n",
        "print(\"a / b =\", a / b) #Division\n",
        "print(\"a // b =\", a // b)\n",
        "print(\"a ** b =\", a ** b)\n"
      ]
    },
    {
      "cell_type": "markdown",
      "source": [
        "Comparison operators in Python"
      ],
      "metadata": {
        "id": "68C8tJYl1yxh"
      }
    },
    {
      "cell_type": "code",
      "source": [
        "b = 50\n",
        "d = 20\n",
        "print(\"b == d is\", b == d)\n",
        "print(\"b != d is\", b != d)\n",
        "print(\"b > d is\", b > d)\n",
        "print(\"b < d is\", b < d)\n",
        "print(\"b >= d is\", b >= d)\n",
        "print(\"b <= d is\", b <= d)"
      ],
      "metadata": {
        "colab": {
          "base_uri": "https://localhost:8080/"
        },
        "id": "j6CbOPa71_EO",
        "outputId": "0a7a2404-1af6-4a5c-997e-68506af2dff9"
      },
      "execution_count": null,
      "outputs": [
        {
          "output_type": "stream",
          "name": "stdout",
          "text": [
            "b == d is False\n",
            "b != d is True\n",
            "b > d is True\n",
            "b < d is False\n",
            "b >= d is True\n",
            "b <= d is False\n"
          ]
        }
      ]
    },
    {
      "cell_type": "markdown",
      "source": [
        "Logical Operators in Python"
      ],
      "metadata": {
        "id": "06yt245j4DJ6"
      }
    },
    {
      "cell_type": "code",
      "source": [
        "g = True\n",
        "h = False\n",
        "print(\"g AND h is\", g and h)\n",
        "print(\"g OR h is\", g or h)\n",
        "print(\"NOT h is\", not h)"
      ],
      "metadata": {
        "colab": {
          "base_uri": "https://localhost:8080/"
        },
        "id": "V0oPdxh84I5K",
        "outputId": "40c2e982-4f95-46ed-d83b-81ff8fe33c2d"
      },
      "execution_count": null,
      "outputs": [
        {
          "output_type": "stream",
          "name": "stdout",
          "text": [
            "g AND h is False\n",
            "g OR h is True\n",
            "NOT h is True\n"
          ]
        }
      ]
    },
    {
      "cell_type": "markdown",
      "source": [
        "Assignment Operators in Python"
      ],
      "metadata": {
        "id": "hH4E8IZi5ZJv"
      }
    },
    {
      "cell_type": "code",
      "source": [
        "g = 2\n",
        "g += 2\n",
        "#g = g + 2\n",
        "print(g)"
      ],
      "metadata": {
        "colab": {
          "base_uri": "https://localhost:8080/"
        },
        "id": "-hLMG_7z5d4x",
        "outputId": "5224bbb8-5b06-45fe-8079-bdbcefe56edb"
      },
      "execution_count": 17,
      "outputs": [
        {
          "output_type": "stream",
          "name": "stdout",
          "text": [
            "4\n"
          ]
        }
      ]
    },
    {
      "cell_type": "code",
      "source": [
        "g = 2\n",
        "g -= 2\n",
        "#g = g - 2\n",
        "print(g)"
      ],
      "metadata": {
        "colab": {
          "base_uri": "https://localhost:8080/"
        },
        "id": "ZfyeTkpyT7Ro",
        "outputId": "76e9d33f-21ba-4761-ecb8-077cd0a963be"
      },
      "execution_count": 7,
      "outputs": [
        {
          "output_type": "stream",
          "name": "stdout",
          "text": [
            "0\n"
          ]
        }
      ]
    },
    {
      "cell_type": "code",
      "source": [
        "g = 2\n",
        "g *= 2\n",
        "#g = g * 2\n",
        "print(g)"
      ],
      "metadata": {
        "colab": {
          "base_uri": "https://localhost:8080/"
        },
        "id": "FM_4XQENUehh",
        "outputId": "53c73b2f-239c-4e87-9734-a6afeb799d7b"
      },
      "execution_count": 8,
      "outputs": [
        {
          "output_type": "stream",
          "name": "stdout",
          "text": [
            "4\n"
          ]
        }
      ]
    },
    {
      "cell_type": "code",
      "source": [
        "g = 2\n",
        "g /= 2\n",
        "#g = g / 2\n",
        "print(g)"
      ],
      "metadata": {
        "colab": {
          "base_uri": "https://localhost:8080/"
        },
        "id": "g1H4ig9BUsCV",
        "outputId": "cf1360dd-2789-466a-d2ad-73cb30fd018f"
      },
      "execution_count": 6,
      "outputs": [
        {
          "output_type": "stream",
          "name": "stdout",
          "text": [
            "1.0\n"
          ]
        }
      ]
    },
    {
      "cell_type": "code",
      "source": [
        "g = 2\n",
        "g %= 2\n",
        "#g = g % 2\n",
        "print(g)"
      ],
      "metadata": {
        "colab": {
          "base_uri": "https://localhost:8080/"
        },
        "id": "4G7RnoCTU8bo",
        "outputId": "f9bf2cbb-7909-4080-f72e-8be3aaaae3d6"
      },
      "execution_count": 9,
      "outputs": [
        {
          "output_type": "stream",
          "name": "stdout",
          "text": [
            "0\n"
          ]
        }
      ]
    },
    {
      "cell_type": "code",
      "source": [
        "g = 2\n",
        "g //= 2\n",
        "#g = g // 2\n",
        "print(g)"
      ],
      "metadata": {
        "colab": {
          "base_uri": "https://localhost:8080/"
        },
        "id": "PEaFlT38U142",
        "outputId": "2046f374-8e74-437f-d711-c4b0cced82a7"
      },
      "execution_count": 10,
      "outputs": [
        {
          "output_type": "stream",
          "name": "stdout",
          "text": [
            "1\n"
          ]
        }
      ]
    },
    {
      "cell_type": "code",
      "source": [
        "g = 2\n",
        "g **= 2\n",
        "#g = g ** 2\n",
        "print(g)"
      ],
      "metadata": {
        "colab": {
          "base_uri": "https://localhost:8080/"
        },
        "id": "C8-GUE9OVSY7",
        "outputId": "ca2cd098-efe2-4df5-be0e-85741ed2e710"
      },
      "execution_count": 11,
      "outputs": [
        {
          "output_type": "stream",
          "name": "stdout",
          "text": [
            "4\n"
          ]
        }
      ]
    },
    {
      "cell_type": "code",
      "source": [
        "g = 2\n",
        "g &= 2\n",
        "#g = g & 2\n",
        "print(g)"
      ],
      "metadata": {
        "colab": {
          "base_uri": "https://localhost:8080/"
        },
        "id": "JEXSDk-BVek9",
        "outputId": "42214389-68a5-44ac-a76e-8b4a52f3c154"
      },
      "execution_count": 12,
      "outputs": [
        {
          "output_type": "stream",
          "name": "stdout",
          "text": [
            "2\n"
          ]
        }
      ]
    },
    {
      "cell_type": "code",
      "source": [
        "g = 2\n",
        "g |=2\n",
        "#g = g | 2\n",
        "print(g)"
      ],
      "metadata": {
        "colab": {
          "base_uri": "https://localhost:8080/"
        },
        "id": "73mbettLVo3G",
        "outputId": "f5a7b5c7-aa1d-455d-966e-1d0a93a20861"
      },
      "execution_count": 13,
      "outputs": [
        {
          "output_type": "stream",
          "name": "stdout",
          "text": [
            "2\n"
          ]
        }
      ]
    },
    {
      "cell_type": "code",
      "source": [
        "g = 2\n",
        "g ^= 2\n",
        "#g = g ^ 2\n",
        "print(g)"
      ],
      "metadata": {
        "colab": {
          "base_uri": "https://localhost:8080/"
        },
        "id": "rYTd47AaVzPk",
        "outputId": "f48a3454-dfc1-4c62-b938-ebeddb313605"
      },
      "execution_count": 14,
      "outputs": [
        {
          "output_type": "stream",
          "name": "stdout",
          "text": [
            "0\n"
          ]
        }
      ]
    },
    {
      "cell_type": "code",
      "source": [
        "g = 2\n",
        "g <<= 2\n",
        "#g = g << 2\n",
        "print(g)"
      ],
      "metadata": {
        "colab": {
          "base_uri": "https://localhost:8080/"
        },
        "id": "s0QI9GxZV9st",
        "outputId": "4a5a1ca0-3bef-45e4-ea92-6a414164b99f"
      },
      "execution_count": 15,
      "outputs": [
        {
          "output_type": "stream",
          "name": "stdout",
          "text": [
            "8\n"
          ]
        }
      ]
    },
    {
      "cell_type": "code",
      "source": [
        "g = 2\n",
        "g >>= 2\n",
        "#g = g >> 2\n",
        "print(g)"
      ],
      "metadata": {
        "colab": {
          "base_uri": "https://localhost:8080/"
        },
        "id": "jYwHsiVtWHi0",
        "outputId": "e44f445d-5a8d-4c72-ccc4-861ff7fa2b4a"
      },
      "execution_count": 16,
      "outputs": [
        {
          "output_type": "stream",
          "name": "stdout",
          "text": [
            "0\n"
          ]
        }
      ]
    },
    {
      "cell_type": "markdown",
      "source": [
        "Identity Operators in Python"
      ],
      "metadata": {
        "id": "3Nh2MWAkKi3x"
      }
    },
    {
      "cell_type": "code",
      "source": [
        "x1 = 7\n",
        "y1 = 7\n",
        "x2 = 'Welcome'\n",
        "y2 = 'Welcome'\n",
        "x3 = [0,1,2]\n",
        "y3 = [0,1,2]\n",
        "\n",
        "print(x1 is not y1)\n",
        "\n",
        "print(x2 is y2)\n",
        "\n",
        "print(x3 is  y3)"
      ],
      "metadata": {
        "colab": {
          "base_uri": "https://localhost:8080/"
        },
        "id": "CL14R5LcKBub",
        "outputId": "78a2c397-ed7b-41ec-a65f-edb29e8dd2ad"
      },
      "execution_count": null,
      "outputs": [
        {
          "output_type": "stream",
          "name": "stdout",
          "text": [
            "False\n",
            "True\n",
            "False\n"
          ]
        }
      ]
    },
    {
      "cell_type": "markdown",
      "source": [
        "Membership Operator in Python"
      ],
      "metadata": {
        "id": "2oznHIA0LdQw"
      }
    },
    {
      "cell_type": "code",
      "source": [
        "g = 'Welcome Guies'\n",
        "h = {1:'a',2:'b'}\n",
        "\n",
        "print('G' in g)\n",
        "\n",
        "print('Welcome' not in g)\n",
        "\n",
        "print(1 in h)\n",
        "\n",
        "print('a' in h)"
      ],
      "metadata": {
        "colab": {
          "base_uri": "https://localhost:8080/"
        },
        "id": "hE0eicEZLh6C",
        "outputId": "7db718a3-d36c-49c3-8d4f-c9c3e65f3e32"
      },
      "execution_count": null,
      "outputs": [
        {
          "output_type": "stream",
          "name": "stdout",
          "text": [
            "True\n",
            "False\n",
            "True\n",
            "False\n"
          ]
        }
      ]
    },
    {
      "cell_type": "markdown",
      "source": [
        "For loop\n"
      ],
      "metadata": {
        "id": "u7EFp0kPXCdM"
      }
    },
    {
      "cell_type": "code",
      "source": [
        "Fruits = [\"banana\",\"apple\",\"mango\"]\n",
        "for i in Fruits:\n",
        "  print(i)\n"
      ],
      "metadata": {
        "colab": {
          "base_uri": "https://localhost:8080/"
        },
        "id": "W-suIkikXIDe",
        "outputId": "cacf33b9-ac96-4e6c-df97-773e7d58f254"
      },
      "execution_count": 19,
      "outputs": [
        {
          "output_type": "stream",
          "name": "stdout",
          "text": [
            "banana\n",
            "apple\n",
            "mango\n"
          ]
        }
      ]
    },
    {
      "cell_type": "markdown",
      "source": [
        "while loop"
      ],
      "metadata": {
        "id": "7ctyZfmxYVkw"
      }
    },
    {
      "cell_type": "code",
      "source": [
        "count = 0\n",
        "while count < 10:\n",
        "  count = count + 1\n",
        "  print(count)"
      ],
      "metadata": {
        "colab": {
          "base_uri": "https://localhost:8080/"
        },
        "id": "Twat6Zj_YZ_6",
        "outputId": "6214534e-a43a-48e5-d64e-e6ccf467e489"
      },
      "execution_count": 21,
      "outputs": [
        {
          "output_type": "stream",
          "name": "stdout",
          "text": [
            "1\n",
            "2\n",
            "3\n",
            "4\n",
            "5\n",
            "6\n",
            "7\n",
            "8\n",
            "9\n",
            "10\n"
          ]
        }
      ]
    },
    {
      "cell_type": "markdown",
      "source": [
        "Range"
      ],
      "metadata": {
        "id": "6dv43TrkZRPP"
      }
    },
    {
      "cell_type": "code",
      "source": [
        "print(range(5))\n",
        "\n",
        "print(list(range(10)))\n",
        "\n",
        "print(list(range(3, 8)))\n",
        "\n",
        "print(list(range(1, 20, 3)))"
      ],
      "metadata": {
        "colab": {
          "base_uri": "https://localhost:8080/"
        },
        "id": "5aNlHoHhZUpC",
        "outputId": "c6350c24-108f-4466-8b13-4d9904e74ad3"
      },
      "execution_count": 24,
      "outputs": [
        {
          "output_type": "stream",
          "name": "stdout",
          "text": [
            "range(0, 5)\n",
            "[0, 1, 2, 3, 4, 5, 6, 7, 8, 9]\n",
            "[3, 4, 5, 6, 7]\n",
            "[1, 4, 7, 10, 13, 16, 19]\n"
          ]
        }
      ]
    }
  ]
}